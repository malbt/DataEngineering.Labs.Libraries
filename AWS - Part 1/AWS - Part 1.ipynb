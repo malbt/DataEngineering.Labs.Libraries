{
 "cells": [
  {
   "cell_type": "markdown",
   "metadata": {},
   "source": [
    "## Intro to AWS\n",
    "\n",
    "Amazon Web Services (AWS) is far and away the largest provider of cloud compute infrastructure in the world. Learning how to interact with AWS is an extremely valuable and powerful tool to add to your belt.\n",
    "\n",
    "AWS can be thought of as a set of building blocks, with which you can build almost anything imaginable. \n",
    "\n",
    "Mobile apps, personal websites, photo back up, ₿ mining, databases, data lakes, global IT infrastructure, and more can all be built using AWS. For most people, it is true to say that no day goes by without them interacting in one form or another with a service hosted on AWS. So household names that are built on AWS are:\n",
    "\n",
    " - Netflix\n",
    " - Reddit\n",
    " - Pinterest\n",
    " - AirBnb\n",
    " - State and local government\n",
    " - US Intelligence Agencies\n",
    " - and many, MANY more!\n",
    " \n",
    "The labs we'll work through here, will help you get your feet wet with the platform. There are an ever growing number of services, so we'll work through a few examples of how to interact with the AWS services, and then you'll get a chance later in the course to explore more on your own.\n",
    "\n",
    "In essence, there are three ways to interact with AWS services:\n",
    "\n",
    "- The AWS CLI (Command Line Interface)\n",
    "    - Can be used directly from your command line\n",
    "- Boto3 (the official AWS SDK for Python)\n",
    "    - Used for integrating AWS services into Python code\n",
    "- The AWS Console (https://console.aws.amazon.com/)\n",
    "    - AWS website, where you can see all your services, and manually spin up services\n",
    "    \n",
    "We'll start with a number of Boto3 examples, then log into the console and try a few things, and finally give the CLI a shot.\n",
    "\n",
    "For the AWS labs you'll need:\n",
    " - Boto3 (python library)\n",
    " - awscli (python library)"
   ]
  },
  {
   "cell_type": "code",
   "execution_count": 3,
   "metadata": {},
   "outputs": [],
   "source": [
    "#import boto3\n",
    "\n",
    "import boto3"
   ]
  },
  {
   "cell_type": "markdown",
   "metadata": {},
   "source": [
    "## S3 (Simple Storage Service)\n",
    "\n",
    "A few things to keep in mind (from AWS):\n",
    "\n",
    "- Bucket names must be unique across all existing bucket names in Amazon S3.\n",
    "\n",
    "- Bucket names must comply with DNS naming conventions.\n",
    "\n",
    "- Bucket names must be at least 3 and no more than 63 characters long.\n",
    "\n",
    "- Bucket names must not contain uppercase characters or underscores.\n",
    "\n",
    "- Bucket names must start with a lowercase letter or number.\n",
    "\n",
    "- Bucket names must be a series of one or more labels. Adjacent labels are separated by a single period (.). Bucket names can contain lowercase letters, numbers, and hyphens. Each label must start and end with a lowercase letter or a number.\n",
    "\n",
    "- Bucket names must not be formatted as an IP address (for example, 192.168.5.4)."
   ]
  },
  {
   "cell_type": "code",
   "execution_count": 4,
   "metadata": {},
   "outputs": [],
   "source": [
    "#define the s3 client in Boto3\n",
    "\n",
    "s3 = boto3.client('s3') "
   ]
  },
  {
   "cell_type": "code",
   "execution_count": 5,
   "metadata": {},
   "outputs": [
    {
     "data": {
      "text/plain": [
       "{'ResponseMetadata': {'RequestId': 'E88053B220872BFA',\n",
       "  'HostId': 'xYVJH6ni17PBao/KPBB2pelkHHefZzVZF2uA5jI0opJBDp3lwY1MKowp2IJ9dayM2858klLcPqU=',\n",
       "  'HTTPStatusCode': 200,\n",
       "  'HTTPHeaders': {'x-amz-id-2': 'xYVJH6ni17PBao/KPBB2pelkHHefZzVZF2uA5jI0opJBDp3lwY1MKowp2IJ9dayM2858klLcPqU=',\n",
       "   'x-amz-request-id': 'E88053B220872BFA',\n",
       "   'date': 'Fri, 20 Mar 2020 04:03:02 GMT',\n",
       "   'location': '/tmal.first.bucket',\n",
       "   'content-length': '0',\n",
       "   'server': 'AmazonS3'},\n",
       "  'RetryAttempts': 0},\n",
       " 'Location': '/tmal.first.bucket'}"
      ]
     },
     "execution_count": 5,
     "metadata": {},
     "output_type": "execute_result"
    }
   ],
   "source": [
    "#create a new bucket (bucket names are globally unique, so you'll have to use a name that hasn't been used before)\n",
    "\n",
    "s3.create_bucket(Bucket=\"tmal.first.bucket\")"
   ]
  },
  {
   "cell_type": "code",
   "execution_count": 6,
   "metadata": {},
   "outputs": [
    {
     "name": "stdout",
     "output_type": "stream",
     "text": [
      "tmal.first.bucket\n"
     ]
    }
   ],
   "source": [
    "#show all buckets in your account to confirm your bucket was created\n",
    "\n",
    "buckets = s3.list_buckets()\n",
    "for i in buckets['Buckets']:\n",
    "    if i['Name'] == 'tmal.first.bucket':\n",
    "        print(i['Name'])"
   ]
  },
  {
   "cell_type": "code",
   "execution_count": 8,
   "metadata": {},
   "outputs": [],
   "source": [
    "#upload the \"hello world.rtf\" into your new bucket\n",
    "\n",
    "s3.upload_file(Filename='hello world.rtf', Bucket=\"tmal.first.bucket\", Key=\"hello world\")"
   ]
  },
  {
   "cell_type": "code",
   "execution_count": 9,
   "metadata": {},
   "outputs": [
    {
     "data": {
      "text/plain": [
       "{'ResponseMetadata': {'RequestId': '377753D9CCF0D33D',\n",
       "  'HostId': 'TAZyjzsGHoHkpWaEgFIjlJl4BlSQZ4aYBm1Zv9ETSUUDQXgWQZQWoareSw1fSOxmknqIzuV4sU4=',\n",
       "  'HTTPStatusCode': 200,\n",
       "  'HTTPHeaders': {'x-amz-id-2': 'TAZyjzsGHoHkpWaEgFIjlJl4BlSQZ4aYBm1Zv9ETSUUDQXgWQZQWoareSw1fSOxmknqIzuV4sU4=',\n",
       "   'x-amz-request-id': '377753D9CCF0D33D',\n",
       "   'date': 'Fri, 20 Mar 2020 04:03:45 GMT',\n",
       "   'x-amz-bucket-region': 'us-east-1',\n",
       "   'content-type': 'application/xml',\n",
       "   'transfer-encoding': 'chunked',\n",
       "   'server': 'AmazonS3'},\n",
       "  'RetryAttempts': 0},\n",
       " 'IsTruncated': False,\n",
       " 'Marker': '',\n",
       " 'Contents': [{'Key': 'hello world',\n",
       "   'LastModified': datetime.datetime(2020, 3, 20, 4, 3, 42, tzinfo=tzutc()),\n",
       "   'ETag': '\"c1cbd445d50ae809918d4997cc9fc78c\"',\n",
       "   'Size': 378,\n",
       "   'StorageClass': 'STANDARD',\n",
       "   'Owner': {'DisplayName': 'mal.bt27',\n",
       "    'ID': '94ce2fdbb710eb8bf2e424feea677c6a1859ddb7dacab27e57a0e0bcd82bd297'}}],\n",
       " 'Name': 'tmal.first.bucket',\n",
       " 'Prefix': '',\n",
       " 'MaxKeys': 1000,\n",
       " 'EncodingType': 'url'}"
      ]
     },
     "execution_count": 9,
     "metadata": {},
     "output_type": "execute_result"
    }
   ],
   "source": [
    "#check the contents of the bucket and see if your file is there\n",
    "\n",
    "response = s3.list_objects(Bucket='tmal.first.bucket')\n",
    "response"
   ]
  },
  {
   "cell_type": "code",
   "execution_count": 10,
   "metadata": {},
   "outputs": [
    {
     "data": {
      "text/plain": [
       "{'ResponseMetadata': {'RequestId': 'EFC4102F2E6D3835',\n",
       "  'HostId': 'kHewv6pvson9DYc7hrdJwbcS3uFYzr9rpVOvx/KvWneuzysri1Egd2D0gvVRaH6MK3gRU5e9Wr8=',\n",
       "  'HTTPStatusCode': 204,\n",
       "  'HTTPHeaders': {'x-amz-id-2': 'kHewv6pvson9DYc7hrdJwbcS3uFYzr9rpVOvx/KvWneuzysri1Egd2D0gvVRaH6MK3gRU5e9Wr8=',\n",
       "   'x-amz-request-id': 'EFC4102F2E6D3835',\n",
       "   'date': 'Fri, 20 Mar 2020 04:03:49 GMT',\n",
       "   'server': 'AmazonS3'},\n",
       "  'RetryAttempts': 0}}"
      ]
     },
     "execution_count": 10,
     "metadata": {},
     "output_type": "execute_result"
    }
   ],
   "source": [
    "#delete your test file\n",
    "\n",
    "delete = s3.delete_object(\n",
    "    Bucket='tmal.first.bucket',\n",
    "    Key='hello world')\n",
    "\n",
    "delete"
   ]
  },
  {
   "cell_type": "code",
   "execution_count": 11,
   "metadata": {},
   "outputs": [
    {
     "data": {
      "text/plain": [
       "{'ResponseMetadata': {'RequestId': '10D855440EA1CC24',\n",
       "  'HostId': 'tioXOzLHc/zLEwJytDPUFQC7my1ITKKMdNirGfZnS3d6Iri6/3BkrW0SLTTI6cRuCtRuSLoTcmU=',\n",
       "  'HTTPStatusCode': 200,\n",
       "  'HTTPHeaders': {'x-amz-id-2': 'tioXOzLHc/zLEwJytDPUFQC7my1ITKKMdNirGfZnS3d6Iri6/3BkrW0SLTTI6cRuCtRuSLoTcmU=',\n",
       "   'x-amz-request-id': '10D855440EA1CC24',\n",
       "   'date': 'Fri, 20 Mar 2020 04:03:53 GMT',\n",
       "   'x-amz-bucket-region': 'us-east-1',\n",
       "   'content-type': 'application/xml',\n",
       "   'transfer-encoding': 'chunked',\n",
       "   'server': 'AmazonS3'},\n",
       "  'RetryAttempts': 0},\n",
       " 'IsTruncated': False,\n",
       " 'Marker': '',\n",
       " 'Name': 'tmal.first.bucket',\n",
       " 'Prefix': '',\n",
       " 'MaxKeys': 1000,\n",
       " 'EncodingType': 'url'}"
      ]
     },
     "execution_count": 11,
     "metadata": {},
     "output_type": "execute_result"
    }
   ],
   "source": [
    "#check the contents of the bucket and confirm your file is deleted as expected\n",
    "\n",
    "check = s3.list_objects(Bucket='tmal.first.bucket')\n",
    "check"
   ]
  },
  {
   "cell_type": "code",
   "execution_count": 12,
   "metadata": {},
   "outputs": [],
   "source": [
    "#delete the bucket (buckets can only be deleted once they're empty)\n",
    "\n",
    "goodbye_bucket = s3.delete_bucket(Bucket='tmal.first.bucket')"
   ]
  }
 ],
 "metadata": {
  "kernelspec": {
   "display_name": "Python 3",
   "language": "python",
   "name": "python3"
  },
  "language_info": {
   "codemirror_mode": {
    "name": "ipython",
    "version": 3
   },
   "file_extension": ".py",
   "mimetype": "text/x-python",
   "name": "python",
   "nbconvert_exporter": "python",
   "pygments_lexer": "ipython3",
   "version": "3.7.4"
  }
 },
 "nbformat": 4,
 "nbformat_minor": 2
}
